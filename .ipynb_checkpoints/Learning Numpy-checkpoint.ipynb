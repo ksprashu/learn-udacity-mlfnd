{
 "cells": [
  {
   "cell_type": "markdown",
   "metadata": {},
   "source": [
    "# Practicing numpy library and associated methods\n",
    "And can hence use this as a reference of command and capabilities of this library"
   ]
  },
  {
   "cell_type": "code",
   "execution_count": 3,
   "metadata": {},
   "outputs": [],
   "source": [
    "# import the numpy library\n",
    "import numpy as np"
   ]
  },
  {
   "cell_type": "code",
   "execution_count": 5,
   "metadata": {},
   "outputs": [
    {
     "name": "stdout",
     "output_type": "stream",
     "text": [
      "[1 2 3 4 5]\n",
      "[2 2 2 2 2]\n"
     ]
    }
   ],
   "source": [
    "# create simple 1D arrays from python lists\n",
    "x = np.array([1, 2, 3, 4, 5])\n",
    "y = np.array([2, 2, 2, 2, 2])\n",
    "\n",
    "print(x)\n",
    "print(y)"
   ]
  },
  {
   "cell_type": "code",
   "execution_count": 11,
   "metadata": {},
   "outputs": [
    {
     "name": "stdout",
     "output_type": "stream",
     "text": [
      "[3 4 5 6 7]\n",
      "[-1  0  1  2  3]\n",
      "[ 2  4  6  8 10]\n",
      "[0.5 1.  1.5 2.  2.5]\n"
     ]
    }
   ],
   "source": [
    "# perform mathematical operations on the arrays\n",
    "print(x + y)\n",
    "print(x - y)\n",
    "print(x * y)\n",
    "print(x / y)"
   ]
  },
  {
   "cell_type": "code",
   "execution_count": 12,
   "metadata": {},
   "outputs": [
    {
     "name": "stdout",
     "output_type": "stream",
     "text": [
      "[3 4 5 6 7]\n",
      "[-1  0  1  2  3]\n",
      "[ 2  4  6  8 10]\n",
      "[0.5 1.  1.5 2.  2.5]\n"
     ]
    }
   ],
   "source": [
    "# perform operations using functions\n",
    "print(np.add(x, y))\n",
    "print(np.subtract(x, y))\n",
    "print(np.multiply(x, y))\n",
    "print(np.divide(x, y))"
   ]
  },
  {
   "cell_type": "code",
   "execution_count": 112,
   "metadata": {},
   "outputs": [
    {
     "name": "stdout",
     "output_type": "stream",
     "text": [
      "[[1]\n",
      " [2]\n",
      " [3]\n",
      " [4]\n",
      " [5]]\n",
      "[[1]\n",
      " [2]\n",
      " [3]\n",
      " [4]\n",
      " [5]]\n",
      "[[1]\n",
      " [2]\n",
      " [3]\n",
      " [4]\n",
      " [5]]\n"
     ]
    }
   ],
   "source": [
    "# reshaping the array\n",
    "\n",
    "x = np.arange(1,6)\n",
    "print(np.reshape(x, (5,1)))\n",
    "print(np.reshape(x, (len(x),1)))\n",
    "print(np.reshape(x, (x.size,1)))"
   ]
  },
  {
   "cell_type": "code",
   "execution_count": 27,
   "metadata": {},
   "outputs": [
    {
     "name": "stdout",
     "output_type": "stream",
     "text": [
      "[2. 4. 6.]\n",
      "[ 8 27 64]\n"
     ]
    }
   ],
   "source": [
    "# math functions\n",
    "\n",
    "x = np.array([4, 16, 36])\n",
    "print(np.sqrt(x))\n",
    "y = np.array([2, 3, 4])\n",
    "print(np.power(y, 3))"
   ]
  },
  {
   "cell_type": "code",
   "execution_count": 36,
   "metadata": {},
   "outputs": [
    {
     "name": "stdout",
     "output_type": "stream",
     "text": [
      "[[1 2 3]\n",
      " [1 2 3]\n",
      " [1 2 3]]\n",
      "average of all elements = 2.0\n",
      "average columnwise = [1. 2. 3.]\n",
      "average rowwise = [2. 2. 2.]\n"
     ]
    }
   ],
   "source": [
    "# mean functions\n",
    "# also try std, median, min, max etc.\n",
    "\n",
    "x = np.array([1, 2, 3, 1, 2, 3, 1, 2, 3]).reshape(3,3)\n",
    "print(x)\n",
    "\n",
    "print(\"average of all elements = {}\".format(np.mean(x)))\n",
    "print(\"average columnwise = {}\".format(np.mean(x, axis=0)))\n",
    "print(\"average rowwise = {}\".format(np.mean(x, axis=1)))"
   ]
  },
  {
   "cell_type": "code",
   "execution_count": 35,
   "metadata": {},
   "outputs": [
    {
     "name": "stdout",
     "output_type": "stream",
     "text": [
      "columnwise sum = [3 6 9]\n",
      "rowwise sum = [6 6 6]\n"
     ]
    }
   ],
   "source": [
    "# summation functions\n",
    "\n",
    "print(\"columnwise sum = {}\".format(np.sum(x, axis=0)))\n",
    "print(\"rowwise sum = {}\".format(np.sum(x, axis=1)))"
   ]
  },
  {
   "cell_type": "code",
   "execution_count": 52,
   "metadata": {},
   "outputs": [
    {
     "name": "stdout",
     "output_type": "stream",
     "text": [
      "[0. 0. 0. 0.]\n",
      "[[1.]\n",
      " [1.]\n",
      " [1.]\n",
      " [1.]]\n",
      "[[1 0 0 0 0]\n",
      " [0 1 0 0 0]\n",
      " [0 0 1 0 0]\n",
      " [0 0 0 1 0]\n",
      " [0 0 0 0 1]]\n",
      "[[9 9 9]\n",
      " [9 9 9]\n",
      " [9 9 9]]\n",
      "[[1 0 0 0]\n",
      " [0 2 0 0]\n",
      " [0 0 3 0]\n",
      " [0 0 0 4]]\n",
      "[[0.40313354 0.31616095 0.62015283 0.86874192 0.65231971]\n",
      " [0.7395979  0.07859116 0.08431172 0.91136856 0.95644761]\n",
      " [0.4760205  0.12662457 0.78987813 0.08976089 0.12666244]\n",
      " [0.82997381 0.04594303 0.59760501 0.37746677 0.91932103]]\n"
     ]
    }
   ],
   "source": [
    "# built in function to build ndarrays\n",
    "\n",
    "print(np.zeros(4))\n",
    "print(np.ones(4).reshape(4, 1))\n",
    "print(np.eye(5, dtype=int))\n",
    "print(np.full((3,3),9))\n",
    "print(np.diag([1,2,3,4]))\n",
    "\n"
   ]
  },
  {
   "cell_type": "code",
   "execution_count": 63,
   "metadata": {},
   "outputs": [
    {
     "name": "stdout",
     "output_type": "stream",
     "text": [
      "[0 1 2 3 4]\n",
      "[[ 0  1  2  3  4]\n",
      " [ 5  6  7  8  9]\n",
      " [10 11 12 13 14]\n",
      " [15 16 17 18 19]\n",
      " [20 21 22 23 24]]\n",
      "[[ 1  2  3  4  5]\n",
      " [ 6  7  8  9 10]\n",
      " [11 12 13 14 15]\n",
      " [16 17 18 19 20]\n",
      " [21 22 23 24 25]]\n",
      "[[0.53022672 0.52826357 0.98950675 0.94251484 0.15273698]\n",
      " [0.12745821 0.44236379 0.16948917 0.1152736  0.7646877 ]\n",
      " [0.85003397 0.56115918 0.09040408 0.3709133  0.3093478 ]\n",
      " [0.6434551  0.45788053 0.21491879 0.10587082 0.67327855]]\n"
     ]
    }
   ],
   "source": [
    "# use built in function to generate array contents\n",
    "print(np.arange(5))\n",
    "\n",
    "X = np.arange(25).reshape(5,5)\n",
    "print(X)\n",
    "print(np.linspace(1,25,25,dtype=int).reshape(5,5))\n",
    "print(np.random.random(20).reshape(4,5))\n"
   ]
  },
  {
   "cell_type": "code",
   "execution_count": 79,
   "metadata": {},
   "outputs": [
    {
     "name": "stdout",
     "output_type": "stream",
     "text": [
      "[[ 0  1  2  3  4]\n",
      " [ 5  6  7  8  9]\n",
      " [10 11 12 13 14]\n",
      " [20 21 22 23 24]]\n",
      "[[ 0  1  2  3  4]\n",
      " [ 5  6  7  8  9]\n",
      " [55 56 57 58 59]\n",
      " [10 11 12 13 14]\n",
      " [15 16 17 18 19]\n",
      " [20 21 22 23 24]]\n",
      "[[ 0  1  5  2  3  4]\n",
      " [ 5  6  5  7  8  9]\n",
      " [10 11  5 12 13 14]\n",
      " [15 16  5 17 18 19]\n",
      " [20 21  5 22 23 24]]\n"
     ]
    }
   ],
   "source": [
    "# array add, delete operation\n",
    "\n",
    "print(np.delete(X, 3, axis=0))\n",
    "print(np.insert(X, 2, np.arange(55,60).reshape(1,5), axis=0))\n",
    "print(np.insert(X, 2, 5, axis=1))"
   ]
  },
  {
   "cell_type": "code",
   "execution_count": 88,
   "metadata": {},
   "outputs": [
    {
     "name": "stdout",
     "output_type": "stream",
     "text": [
      "[[1 2 3]\n",
      " [4 5 6]\n",
      " [7 8 9]]\n",
      "[20. 25. 30.]\n",
      "[[20. 25. 30.]\n",
      " [ 1.  2.  3.]\n",
      " [ 4.  5.  6.]\n",
      " [ 7.  8.  9.]]\n",
      "[[20.  1.  2.  3.]\n",
      " [25.  4.  5.  6.]\n",
      " [30.  7.  8.  9.]]\n"
     ]
    }
   ],
   "source": [
    "# trying some stacking operations\n",
    "\n",
    "X = np.arange(1, 10).reshape(3,3)\n",
    "y = np.linspace(20, 30, 3)\n",
    "\n",
    "print(X)\n",
    "print(y)\n",
    "\n",
    "print(np.vstack((y, X)))\n",
    "print(np.hstack((y.reshape(3,1), X)))"
   ]
  },
  {
   "cell_type": "code",
   "execution_count": 90,
   "metadata": {},
   "outputs": [
    {
     "name": "stdout",
     "output_type": "stream",
     "text": [
      "[[ 0  1  2  3  4]\n",
      " [ 5  6  7  8  9]\n",
      " [10 11 12 13 14]\n",
      " [15 16 17 18 19]\n",
      " [20 21 22 23 24]]\n",
      "[[12 13 14]\n",
      " [17 18 19]\n",
      " [22 23 24]]\n"
     ]
    }
   ],
   "source": [
    "# Now for some slicing operations\n",
    "\n",
    "X = np.arange(25).reshape(5,5)\n",
    "\n",
    "print(X)\n",
    "print(X[2:,2:])"
   ]
  },
  {
   "cell_type": "code",
   "execution_count": 93,
   "metadata": {},
   "outputs": [
    {
     "name": "stdout",
     "output_type": "stream",
     "text": [
      "[ 0  6 12 18 24]\n",
      "[ 1  7 13 19]\n",
      "[ 5 11 17 23]\n"
     ]
    }
   ],
   "source": [
    "# Print the main and above and below diagonals\n",
    "\n",
    "print(np.diag(X))\n",
    "print(np.diag(X, 1))\n",
    "print(np.diag(X, -1))"
   ]
  },
  {
   "cell_type": "code",
   "execution_count": 106,
   "metadata": {},
   "outputs": [
    {
     "name": "stdout",
     "output_type": "stream",
     "text": [
      "[6 7 8]\n",
      "[ 4  6  7  3  8  5  4  2  7 10]\n",
      "[ 2  3  4  5  6  7  8 10]\n",
      "[ 2  3  4  4  5  6  7  7  8 10]\n",
      "[ 4  6  7  3  8  5  4  2  7 10]\n",
      "None\n",
      "[ 2  3  4  4  5  6  7  7  8 10]\n"
     ]
    }
   ],
   "source": [
    "# binary selection and sorting the arrays\n",
    "\n",
    "print(X[(X>5) & (X<9)])\n",
    "\n",
    "x = np.random.randint(1,11,size=(10,))\n",
    "print(x)\n",
    "\n",
    "print(np.unique(x))\n",
    "print(np.sort(x))\n",
    "print(x)\n",
    "print(x.sort())\n",
    "print(x)\n",
    "\n"
   ]
  },
  {
   "cell_type": "code",
   "execution_count": 99,
   "metadata": {},
   "outputs": [
    {
     "name": "stdout",
     "output_type": "stream",
     "text": [
      "[4 5]\n",
      "[1 2 3]\n",
      "[1 2 3 4 5 6 7 8]\n"
     ]
    }
   ],
   "source": [
    "# set operations\n",
    "\n",
    "x = np.array([1,2,3,4,5])\n",
    "y = np.array([4,5,6,7,8])\n",
    "\n",
    "print(np.intersect1d(x, y))\n",
    "print(np.setdiff1d(x, y))\n",
    "print(np.union1d(x, y))"
   ]
  },
  {
   "cell_type": "code",
   "execution_count": null,
   "metadata": {},
   "outputs": [],
   "source": []
  }
 ],
 "metadata": {
  "kernelspec": {
   "display_name": "Python 3",
   "language": "python",
   "name": "python3"
  },
  "language_info": {
   "codemirror_mode": {
    "name": "ipython",
    "version": 3
   },
   "file_extension": ".py",
   "mimetype": "text/x-python",
   "name": "python",
   "nbconvert_exporter": "python",
   "pygments_lexer": "ipython3",
   "version": "3.7.1"
  }
 },
 "nbformat": 4,
 "nbformat_minor": 2
}
