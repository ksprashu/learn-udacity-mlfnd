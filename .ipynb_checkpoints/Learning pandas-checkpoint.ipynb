{
 "cells": [
  {
   "cell_type": "code",
   "execution_count": 25,
   "metadata": {},
   "outputs": [],
   "source": [
    "import pandas as pd"
   ]
  },
  {
   "cell_type": "code",
   "execution_count": 26,
   "metadata": {},
   "outputs": [
    {
     "name": "stdout",
     "output_type": "stream",
     "text": [
      "bread       1\n",
      "eggs        6\n",
      "apple     Yes\n",
      "banana     No\n",
      "dtype: object\n",
      "(4,)\n",
      "[1 6 'Yes' 'No']\n",
      "Index(['bread', 'eggs', 'apple', 'banana'], dtype='object')\n",
      "False\n"
     ]
    }
   ],
   "source": [
    "# creating a new Pandas series\n",
    "groceries = pd.Series(data=[1, 6, 'Yes', 'No'], index=['bread', 'eggs', 'apple', 'banana'])\n",
    "\n",
    "# printing items from the series\n",
    "print(groceries)\n",
    "print(groceries.shape)\n",
    "print(groceries.values)\n",
    "print(groceries.index)\n",
    "\n",
    "# checking for key in series\n",
    "print('Oleander' in groceries)"
   ]
  },
  {
   "cell_type": "code",
   "execution_count": 27,
   "metadata": {},
   "outputs": [
    {
     "name": "stdout",
     "output_type": "stream",
     "text": [
      "bread      1\n",
      "eggs       6\n",
      "apple    Yes\n",
      "dtype: object\n"
     ]
    }
   ],
   "source": [
    "# remove an item\n",
    "\n",
    "groceries.drop('banana', inplace=True)\n",
    "print(groceries)"
   ]
  },
  {
   "cell_type": "raw",
   "metadata": {},
   "source": [
    "# build a dictionary of scores\n",
    "\n",
    "pers1_scores = [90, 95, 70]\n",
    "pers1_subjects = ['Math', 'English', 'Science']\n",
    "pers2_scores = [80, 80, 99]\n",
    "pers2_subjects = ['Math', 'English', 'Commerce']\n",
    "\n",
    "scores = {'Prashu': pd.Series(pers1_scores, pers1_subjects), 'Peachy': pd.Series(pers2_scores, pers2_subjects)}\n",
    "data = pd.DataFrame(scores)\n",
    "\n",
    "\n",
    "print(data)\n",
    "print(data.values)\n",
    "print(data.index)\n",
    "print(data.columnns)\n",
    "\n",
    "prashu_scores = pd.DataFrame(scores, columns=\"Prashu\")\n",
    "print(prashu_scores)"
   ]
  }
 ],
 "metadata": {
  "kernelspec": {
   "display_name": "Python 3",
   "language": "python",
   "name": "python3"
  },
  "language_info": {
   "codemirror_mode": {
    "name": "ipython",
    "version": 3
   },
   "file_extension": ".py",
   "mimetype": "text/x-python",
   "name": "python",
   "nbconvert_exporter": "python",
   "pygments_lexer": "ipython3",
   "version": "3.7.1"
  }
 },
 "nbformat": 4,
 "nbformat_minor": 2
}
